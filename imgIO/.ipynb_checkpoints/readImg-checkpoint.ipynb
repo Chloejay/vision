{
 "cells": [
  {
   "cell_type": "code",
   "execution_count": 1,
   "metadata": {},
   "outputs": [
    {
     "name": "stdout",
     "output_type": "stream",
     "text": [
      "Requirement already satisfied: jpeg4py in /Users/chloeji/anaconda3/lib/python3.7/site-packages (0.1.4)\n",
      "Requirement already satisfied: numpy in /Users/chloeji/anaconda3/lib/python3.7/site-packages (from jpeg4py) (1.16.2)\n",
      "Requirement already satisfied: cffi in /Users/chloeji/anaconda3/lib/python3.7/site-packages (from jpeg4py) (1.12.2)\n",
      "Requirement already satisfied: pycparser in /Users/chloeji/anaconda3/lib/python3.7/site-packages (from cffi->jpeg4py) (2.19)\n",
      "Requirement already satisfied: pyvips in /Users/chloeji/anaconda3/lib/python3.7/site-packages (2.1.8)\n",
      "Requirement already satisfied: cffi>=1.0.0 in /Users/chloeji/anaconda3/lib/python3.7/site-packages (from pyvips) (1.12.2)\n",
      "Requirement already satisfied: pycparser in /Users/chloeji/anaconda3/lib/python3.7/site-packages (from cffi>=1.0.0->pyvips) (2.19)\n"
     ]
    }
   ],
   "source": [
    "!pip install jpeg4py\n",
    "!pip install pyvips "
   ]
  },
  {
   "cell_type": "code",
   "execution_count": 2,
   "metadata": {},
   "outputs": [],
   "source": [
    "import glob\n",
    "import time\n",
    "import os\n",
    "import jpeg4py as jpeg\n",
    "from PIL import Image\n",
    "import struct\n",
    "import imghdr\n",
    "import skimage.io\n",
    "import imageio\n",
    "import cv2\n",
    "import numpy as np\n",
    "from io import BytesIO\n",
    "import os "
   ]
  },
  {
   "cell_type": "markdown",
   "metadata": {},
   "source": [
    "<strong>PIL is slower than opencv and ImageIO</strong> "
   ]
  },
  {
   "cell_type": "code",
   "execution_count": 3,
   "metadata": {},
   "outputs": [
    {
     "name": "stdout",
     "output_type": "stream",
     "text": [
      "10\n"
     ]
    }
   ],
   "source": [
    "PATH= os.getcwd() \n",
    "img_path= os.path.join(PATH,'img') \n",
    "dirs=os.listdir(img_path)   \n",
    "print(len(dirs)) "
   ]
  },
  {
   "cell_type": "code",
   "execution_count": 4,
   "metadata": {},
   "outputs": [
    {
     "name": "stdout",
     "output_type": "stream",
     "text": [
      "Time to read 10 images by cv2: 0.01 sec\n",
      "Time to read 10 images by cv2 with BGR->RGB conversion: 0.01 sec\n"
     ]
    }
   ],
   "source": [
    "start_time = time.time() \n",
    "d = []\n",
    "\n",
    "for f in dirs:\n",
    "    b = cv2.imread(PATH+'/img/'+f)\n",
    "    d.append(b)\n",
    "    \n",
    "print('Time to read {} images by cv2: {:.2f} sec'.format(len(dirs), time.time()-start_time))  \n",
    "\n",
    "start_time = time.time()  \n",
    "d = []\n",
    "for f in dirs: \n",
    "    b = cv2.imread(PATH+'/img/'+f)   \n",
    "    b = cv2.cvtColor(b, cv2.COLOR_BGR2RGB)\n",
    "    d.append(b) \n",
    "    \n",
    "print('Time to read {} images by cv2 with BGR->RGB conversion: {:.2f} sec'.format(len(dirs),time.time()- start_time)) "
   ]
  },
  {
   "cell_type": "code",
   "execution_count": 5,
   "metadata": {},
   "outputs": [
    {
     "name": "stdout",
     "output_type": "stream",
     "text": [
      "Time to read 10 images by PIL: 0.03 sec\n"
     ]
    }
   ],
   "source": [
    "start_time = time.time()\n",
    "d = []\n",
    "for f in dirs:\n",
    "    c = Image.open(PATH+'/img/'+f)\n",
    "    c = np.array(c)\n",
    "    d.append(c)\n",
    "    \n",
    "print('Time to read {} images by PIL: {:.2f} sec'.format(len(dirs),time.time()- start_time))  "
   ]
  },
  {
   "cell_type": "code",
   "execution_count": 6,
   "metadata": {},
   "outputs": [
    {
     "name": "stdout",
     "output_type": "stream",
     "text": [
      "Time to read 10 images by Imageio: 0.01 sec\n"
     ]
    }
   ],
   "source": [
    "start_time = time.time()  \n",
    "d = []\n",
    "\n",
    "for f in dirs:\n",
    "    c = imageio.imread(PATH+'/img/'+f)\n",
    "    d.append(c) \n",
    "    \n",
    "print('Time to read {} images by Imageio: {:.2f} sec'.format(len(dirs), time.time() - start_time )) "
   ]
  },
  {
   "cell_type": "code",
   "execution_count": 8,
   "metadata": {},
   "outputs": [],
   "source": [
    "# Test SKImage, Pyvip, jpeg4py (TO DO) "
   ]
  },
  {
   "cell_type": "markdown",
   "metadata": {},
   "source": []
  },
  {
   "cell_type": "code",
   "execution_count": null,
   "metadata": {},
   "outputs": [],
   "source": []
  }
 ],
 "metadata": {
  "kernelspec": {
   "display_name": "Python 3",
   "language": "python",
   "name": "python3"
  },
  "language_info": {
   "codemirror_mode": {
    "name": "ipython",
    "version": 3
   },
   "file_extension": ".py",
   "mimetype": "text/x-python",
   "name": "python",
   "nbconvert_exporter": "python",
   "pygments_lexer": "ipython3",
   "version": "3.7.3"
  },
  "varInspector": {
   "cols": {
    "lenName": 16,
    "lenType": 16,
    "lenVar": 40
   },
   "kernels_config": {
    "python": {
     "delete_cmd_postfix": "",
     "delete_cmd_prefix": "del ",
     "library": "var_list.py",
     "varRefreshCmd": "print(var_dic_list())"
    },
    "r": {
     "delete_cmd_postfix": ") ",
     "delete_cmd_prefix": "rm(",
     "library": "var_list.r",
     "varRefreshCmd": "cat(var_dic_list()) "
    }
   },
   "types_to_exclude": [
    "module",
    "function",
    "builtin_function_or_method",
    "instance",
    "_Feature"
   ],
   "window_display": false
  }
 },
 "nbformat": 4,
 "nbformat_minor": 2
}
